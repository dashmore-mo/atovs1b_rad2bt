import numpy as np

class atovs1b_rad2bt:
    """
    This class contains the central wavenumbers and band correction coefficients
    for the ATOVS Level 1B product and converts radiances to brightness temperatures.
    """
    def __init__(self):
        """
        Initialize the class with channel central wavenumbers, radiation constants, and
        band correction coefficients (see Appendix A in ATOVS Level 1B Product Guide)
        """

        self.amsua_central_wavenumbers={
            "channel1": 0.793897,
            "channel2": 1.047421,
            "channel3": 1.677830,
            "channel4": 1.761235,
            "channel5": 1.787785,
            "channel6": 1.814590,
            "channel7": 1.832608,
            "channel8": 1.851295,
            "channel9": 1.911001,
            "channel10": 1.911001,
            "channel11": 1.911001,
            "channel12": 1.911001,
            "channel13": 1.911001,
            "channel14": 1.911001,
            "channel15": 2.968887,
        }

        self.amsua_bandcorrection_coefficients_AB={
            "channel1": [0,1],
            "channel2": [0,1],
            "channel3": [0,1],
            "channel4": [0,1],
            "channel5": [0,1],
            "channel6": [0,1],
            "channel7": [0,1],
            "channel8": [0,1],
            "channel9": [0,1],
            "channel10": [0,1],
            "channel11": [0,1],
            "channel12": [0,1],
            "channel13": [0,1],
            "channel14": [0,1],
            "channel15": [0,1],
        }

        # 5 Central wavenumbers# 
        self.mhs_central_wavenumbers = {
            "channel1": 2.968720, 
            "channel2": 5.236956, 
            "channel3": 6.114597, 
            "channel4": 6.114597, 
            "channel5": 6.348092,
        }

        self.mhs_bandcorrection_coefficients_AB = {
            "channel1": [0.000,1.0],
            "channel2": [0.000,1.0], 
            "channel3": [0.000,1.0], 
            "channel4": [-0.0031,1.00027],
            "channel5": [0.000,1.0],
        }

        # 1st and 2nd radiation constants
        self.C1 = 1.191062e-5
        self.C2 = 1.4387863

    def convert(self, instrument, channel, radiance):
        """
        Convert radiance to brightness temperature for a given instrument and channel.
        
        Parameters:
        instrument (str): Instrument name ('amsua' or 'mhs').
        channel (str): Channel name (e.g., 'channel1', 'channel2',...).
        radiance (float): radiance value to convert.
        
        Returns:
        brightness_temperature (float): The calculated brightness temperature.
        """
        if instrument == "amsua":
            wavenumber = self.amsua_central_wavenumbers[channel]
            coeffs = self.amsua_bandcorrection_coefficients_AB[channel]
        elif instrument == "mhs":
            wavenumber = self.mhs_central_wavenumbers[channel]
            coeffs = self.mhs_bandcorrection_coefficients_AB[channel]
        else:
            raise ValueError("Invalid instrument name")

        #Implement Equation 1
        # Calculate brightness temperature
        numerator = (self.C2*wavenumber)
        denominator = np.log(1 + (self.C1 * np.power(wavenumber,3)) / radiance)
        
        brightness_temperature_star = numerator / denominator
        brightness_temperature = coeffs[0] + coeffs[1] * brightness_temperature_star

        return brightness_temperature

brightness_temperature = atovs1b_rad2bt().convert("amsua", "channel1", 0.0015) 

print (brightness_temperature) # = 288.06 K
